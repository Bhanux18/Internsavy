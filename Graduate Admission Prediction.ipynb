{
 "cells": [
  {
   "cell_type": "markdown",
   "id": "33761910",
   "metadata": {},
   "source": [
    "# <center><b>Task-I\n",
    "---\n",
    "<h3><center><i>_ Classification technique for\n",
    "prediction of Graduate Admissions \n",
    "from an Indian perspective_"
   ]
  },
  {
   "cell_type": "markdown",
   "id": "5c467f68",
   "metadata": {},
   "source": [
    "> Name: <b>BHANUPRAKASH</b><br>Batch:<b> Aug'2023</b>\n",
    "<hr>\n"
   ]
  },
  {
   "cell_type": "markdown",
   "id": "b52afd31",
   "metadata": {},
   "source": [
    "### About Dataset:\n",
    "<h4>Prediction of Graduate Admissions from an Indian perspective.</h4><br>\n",
    "Let's define each variable :\n",
    "<li>Serial No.:</li>\n",
    "   &emsp;&emsp;&emsp;&emsp; A unique identifier assigned to each applicant in the dataset.\n",
    "<li>GRE Score: </li>\n",
    "    &emsp;&emsp;&emsp;&emsp;The Graduate Record Examination (GRE) score, which is a standardized test commonly required for admission to graduate schools.\n",
    "<li>TOEFL Score:</li>\n",
    "&emsp;&emsp;&emsp;&emsp;The Test of English as a Foreign Language (TOEFL) score, which measures an applicant's English language  proficiency. This score is important for &emsp;&emsp;&emsp;&emsp; non-native English speakers applying to English-speaking universities.\n",
    "<li>University Rating:</li>\n",
    "&emsp;&emsp;&emsp;&emsp;The rating or ranking of the university where the applicant wishes to gain admission. It is usually based on factors like faculty reputation, research &emsp;&emsp;&emsp;&emsp;output,and academic facilities.\n",
    "<li>SOP (Statement of Purpose):</li>\n",
    "&emsp;&emsp;&emsp;&emsp;This is a critical component of the application process, where applicants provide a written statement outlining their academic and career goals, &emsp;&emsp;&emsp;&emsp; research interests, and reasons for applying to the specific program.\n",
    "<li>LOR (Letter of Recommendation):</li>\n",
    "&emsp;&emsp;&emsp;&emsp; Letters written by individuals who can attest to the applicant's academic abilities, character, and potential for success in the graduate program. &emsp;&emsp;&emsp;&emsp;  Typically, universities require two to three letters of recommendation.\n",
    "<li>CGPA (Cumulative Grade Point Average):</li> \n",
    "&emsp;&emsp;&emsp;&emsp;The overall GPA of the applicant throughout their undergraduate studies. This is a measure of their academic performance and success during their &emsp;&emsp;&emsp;&emsp; bachelor's degree.\n",
    "<li>Research:</li> \n",
    "&emsp;&emsp;&emsp;&emsp;A binary variable (0 or 1) indicating whether the applicant has previous research experience. Research experience is often valued by graduate &emsp;&emsp;&emsp;&emsp; programs, especially for applicants interested in research-oriented programs.\n",
    "<li>Chance of Admit: </li>\n",
    "&emsp;&emsp;&emsp;&emsp;The estimated probability or chance that the applicant will be admitted to the graduate program. It is calculated based on various factors, such as test &emsp;&emsp;&emsp;&emsp; scores, GPA, statement of purpose, letters of recommendation, and research experience\n",
    "\n",
    "<b>Statement:</b><br>Use classification technique for prediction of Graduate Admissions  from an Indian perspective.<br>\n",
    "\n",
    "Dataset link:https://www.kaggle.com/datasets/mohansacharya/graduate-admissions"
   ]
  },
  {
   "cell_type": "code",
   "execution_count": null,
   "id": "56a709e7",
   "metadata": {},
   "outputs": [],
   "source": []
  },
  {
   "cell_type": "markdown",
   "id": "d6d10d07",
   "metadata": {},
   "source": [
    "### Importing required libraries\n"
   ]
  },
  {
   "cell_type": "code",
   "execution_count": 119,
   "id": "a04edabc",
   "metadata": {},
   "outputs": [],
   "source": [
    "# Loading libraries\n",
    "import numpy as np\n",
    "import pandas as pd\n",
    "import seaborn as sb\n",
    "import matplotlib.pyplot as pt\n",
    "\n",
    "# ML libraries\n",
    "from sklearn.model_selection import train_test_split,GridSearchCV\n",
    "from sklearn.datasets import make_classification\n",
    "from sklearn.metrics import accuracy_score,confusion_matrix,classification_report\n",
    "from sklearn.neighbors import KNeighborsClassifier\n",
    "from sklearn.tree import DecisionTreeClassifier\n",
    "from sklearn.naive_bayes import GaussianNB\n",
    "from sklearn.linear_model import LogisticRegression\n",
    "from sklearn.svm import SVC\n",
    "from sklearn.ensemble import RandomForestClassifier,GradientBoostingClassifier\n",
    "from sklearn.preprocessing import StandardScaler\n",
    "\n",
    "\n",
    "import time\n",
    "import warnings\n",
    "warnings.filterwarnings(\"ignore\")"
   ]
  },
  {
   "cell_type": "markdown",
   "id": "7e706553",
   "metadata": {},
   "source": [
    "### i) Exploratory Data Analysis"
   ]
  },
  {
   "cell_type": "code",
   "execution_count": 57,
   "id": "93accbac",
   "metadata": {},
   "outputs": [],
   "source": [
    "# load dataset\n",
    "admit=pd.read_csv(\"C:/Users/Bhanu/OneDrive/Desktop/Internsavvy/Admission_Predict_Ver1.1.csv\")"
   ]
  },
  {
   "cell_type": "code",
   "execution_count": 58,
   "id": "e147cd37",
   "metadata": {},
   "outputs": [
    {
     "data": {
      "text/plain": [
       "(500, 9)"
      ]
     },
     "execution_count": 58,
     "metadata": {},
     "output_type": "execute_result"
    }
   ],
   "source": [
    "# Shape of dataset\n",
    "admit.shape"
   ]
  },
  {
   "cell_type": "code",
   "execution_count": 59,
   "id": "783c40c4",
   "metadata": {},
   "outputs": [
    {
     "data": {
      "text/plain": [
       "500"
      ]
     },
     "execution_count": 59,
     "metadata": {},
     "output_type": "execute_result"
    }
   ],
   "source": [
    "#Length of dataset\n",
    "len(admit)"
   ]
  },
  {
   "cell_type": "code",
   "execution_count": 60,
   "id": "4d614d05",
   "metadata": {},
   "outputs": [
    {
     "data": {
      "text/plain": [
       "Index(['Serial No.', 'GRE Score', 'TOEFL Score', 'University Rating', 'SOP',\n",
       "       'LOR ', 'CGPA', 'Research', 'Chance of Admit '],\n",
       "      dtype='object')"
      ]
     },
     "execution_count": 60,
     "metadata": {},
     "output_type": "execute_result"
    }
   ],
   "source": [
    "# columns of dataframe\n",
    "admit.columns"
   ]
  },
  {
   "cell_type": "code",
   "execution_count": 61,
   "id": "e74ce44a",
   "metadata": {},
   "outputs": [
    {
     "data": {
      "text/html": [
       "<div>\n",
       "<style scoped>\n",
       "    .dataframe tbody tr th:only-of-type {\n",
       "        vertical-align: middle;\n",
       "    }\n",
       "\n",
       "    .dataframe tbody tr th {\n",
       "        vertical-align: top;\n",
       "    }\n",
       "\n",
       "    .dataframe thead th {\n",
       "        text-align: right;\n",
       "    }\n",
       "</style>\n",
       "<table border=\"1\" class=\"dataframe\">\n",
       "  <thead>\n",
       "    <tr style=\"text-align: right;\">\n",
       "      <th></th>\n",
       "      <th>Serial No.</th>\n",
       "      <th>GRE Score</th>\n",
       "      <th>TOEFL Score</th>\n",
       "      <th>University Rating</th>\n",
       "      <th>SOP</th>\n",
       "      <th>LOR</th>\n",
       "      <th>CGPA</th>\n",
       "      <th>Research</th>\n",
       "      <th>Chance of Admit</th>\n",
       "    </tr>\n",
       "  </thead>\n",
       "  <tbody>\n",
       "    <tr>\n",
       "      <th>0</th>\n",
       "      <td>1</td>\n",
       "      <td>337</td>\n",
       "      <td>118</td>\n",
       "      <td>4</td>\n",
       "      <td>4.5</td>\n",
       "      <td>4.5</td>\n",
       "      <td>9.65</td>\n",
       "      <td>1</td>\n",
       "      <td>0.92</td>\n",
       "    </tr>\n",
       "    <tr>\n",
       "      <th>1</th>\n",
       "      <td>2</td>\n",
       "      <td>324</td>\n",
       "      <td>107</td>\n",
       "      <td>4</td>\n",
       "      <td>4.0</td>\n",
       "      <td>4.5</td>\n",
       "      <td>8.87</td>\n",
       "      <td>1</td>\n",
       "      <td>0.76</td>\n",
       "    </tr>\n",
       "    <tr>\n",
       "      <th>2</th>\n",
       "      <td>3</td>\n",
       "      <td>316</td>\n",
       "      <td>104</td>\n",
       "      <td>3</td>\n",
       "      <td>3.0</td>\n",
       "      <td>3.5</td>\n",
       "      <td>8.00</td>\n",
       "      <td>1</td>\n",
       "      <td>0.72</td>\n",
       "    </tr>\n",
       "    <tr>\n",
       "      <th>3</th>\n",
       "      <td>4</td>\n",
       "      <td>322</td>\n",
       "      <td>110</td>\n",
       "      <td>3</td>\n",
       "      <td>3.5</td>\n",
       "      <td>2.5</td>\n",
       "      <td>8.67</td>\n",
       "      <td>1</td>\n",
       "      <td>0.80</td>\n",
       "    </tr>\n",
       "    <tr>\n",
       "      <th>4</th>\n",
       "      <td>5</td>\n",
       "      <td>314</td>\n",
       "      <td>103</td>\n",
       "      <td>2</td>\n",
       "      <td>2.0</td>\n",
       "      <td>3.0</td>\n",
       "      <td>8.21</td>\n",
       "      <td>0</td>\n",
       "      <td>0.65</td>\n",
       "    </tr>\n",
       "  </tbody>\n",
       "</table>\n",
       "</div>"
      ],
      "text/plain": [
       "   Serial No.  GRE Score  TOEFL Score  University Rating  SOP  LOR   CGPA  \\\n",
       "0           1        337          118                  4  4.5   4.5  9.65   \n",
       "1           2        324          107                  4  4.0   4.5  8.87   \n",
       "2           3        316          104                  3  3.0   3.5  8.00   \n",
       "3           4        322          110                  3  3.5   2.5  8.67   \n",
       "4           5        314          103                  2  2.0   3.0  8.21   \n",
       "\n",
       "   Research  Chance of Admit   \n",
       "0         1              0.92  \n",
       "1         1              0.76  \n",
       "2         1              0.72  \n",
       "3         1              0.80  \n",
       "4         0              0.65  "
      ]
     },
     "execution_count": 61,
     "metadata": {},
     "output_type": "execute_result"
    }
   ],
   "source": [
    "# head of dataframe\n",
    "admit.head()"
   ]
  },
  {
   "cell_type": "code",
   "execution_count": 62,
   "id": "66ef12d2",
   "metadata": {},
   "outputs": [
    {
     "data": {
      "text/html": [
       "<div>\n",
       "<style scoped>\n",
       "    .dataframe tbody tr th:only-of-type {\n",
       "        vertical-align: middle;\n",
       "    }\n",
       "\n",
       "    .dataframe tbody tr th {\n",
       "        vertical-align: top;\n",
       "    }\n",
       "\n",
       "    .dataframe thead th {\n",
       "        text-align: right;\n",
       "    }\n",
       "</style>\n",
       "<table border=\"1\" class=\"dataframe\">\n",
       "  <thead>\n",
       "    <tr style=\"text-align: right;\">\n",
       "      <th></th>\n",
       "      <th>Serial No.</th>\n",
       "      <th>GRE Score</th>\n",
       "      <th>TOEFL Score</th>\n",
       "      <th>University Rating</th>\n",
       "      <th>SOP</th>\n",
       "      <th>LOR</th>\n",
       "      <th>CGPA</th>\n",
       "      <th>Research</th>\n",
       "      <th>Chance of Admit</th>\n",
       "    </tr>\n",
       "  </thead>\n",
       "  <tbody>\n",
       "    <tr>\n",
       "      <th>495</th>\n",
       "      <td>496</td>\n",
       "      <td>332</td>\n",
       "      <td>108</td>\n",
       "      <td>5</td>\n",
       "      <td>4.5</td>\n",
       "      <td>4.0</td>\n",
       "      <td>9.02</td>\n",
       "      <td>1</td>\n",
       "      <td>0.87</td>\n",
       "    </tr>\n",
       "    <tr>\n",
       "      <th>496</th>\n",
       "      <td>497</td>\n",
       "      <td>337</td>\n",
       "      <td>117</td>\n",
       "      <td>5</td>\n",
       "      <td>5.0</td>\n",
       "      <td>5.0</td>\n",
       "      <td>9.87</td>\n",
       "      <td>1</td>\n",
       "      <td>0.96</td>\n",
       "    </tr>\n",
       "    <tr>\n",
       "      <th>497</th>\n",
       "      <td>498</td>\n",
       "      <td>330</td>\n",
       "      <td>120</td>\n",
       "      <td>5</td>\n",
       "      <td>4.5</td>\n",
       "      <td>5.0</td>\n",
       "      <td>9.56</td>\n",
       "      <td>1</td>\n",
       "      <td>0.93</td>\n",
       "    </tr>\n",
       "    <tr>\n",
       "      <th>498</th>\n",
       "      <td>499</td>\n",
       "      <td>312</td>\n",
       "      <td>103</td>\n",
       "      <td>4</td>\n",
       "      <td>4.0</td>\n",
       "      <td>5.0</td>\n",
       "      <td>8.43</td>\n",
       "      <td>0</td>\n",
       "      <td>0.73</td>\n",
       "    </tr>\n",
       "    <tr>\n",
       "      <th>499</th>\n",
       "      <td>500</td>\n",
       "      <td>327</td>\n",
       "      <td>113</td>\n",
       "      <td>4</td>\n",
       "      <td>4.5</td>\n",
       "      <td>4.5</td>\n",
       "      <td>9.04</td>\n",
       "      <td>0</td>\n",
       "      <td>0.84</td>\n",
       "    </tr>\n",
       "  </tbody>\n",
       "</table>\n",
       "</div>"
      ],
      "text/plain": [
       "     Serial No.  GRE Score  TOEFL Score  University Rating  SOP  LOR   CGPA  \\\n",
       "495         496        332          108                  5  4.5   4.0  9.02   \n",
       "496         497        337          117                  5  5.0   5.0  9.87   \n",
       "497         498        330          120                  5  4.5   5.0  9.56   \n",
       "498         499        312          103                  4  4.0   5.0  8.43   \n",
       "499         500        327          113                  4  4.5   4.5  9.04   \n",
       "\n",
       "     Research  Chance of Admit   \n",
       "495         1              0.87  \n",
       "496         1              0.96  \n",
       "497         1              0.93  \n",
       "498         0              0.73  \n",
       "499         0              0.84  "
      ]
     },
     "execution_count": 62,
     "metadata": {},
     "output_type": "execute_result"
    }
   ],
   "source": [
    "# Tail of dataframe\n",
    "admit.tail()"
   ]
  },
  {
   "cell_type": "code",
   "execution_count": 63,
   "id": "b5f9301c",
   "metadata": {
    "scrolled": true
   },
   "outputs": [
    {
     "name": "stdout",
     "output_type": "stream",
     "text": [
      "<class 'pandas.core.frame.DataFrame'>\n",
      "RangeIndex: 500 entries, 0 to 499\n",
      "Data columns (total 9 columns):\n",
      " #   Column             Non-Null Count  Dtype  \n",
      "---  ------             --------------  -----  \n",
      " 0   Serial No.         500 non-null    int64  \n",
      " 1   GRE Score          500 non-null    int64  \n",
      " 2   TOEFL Score        500 non-null    int64  \n",
      " 3   University Rating  500 non-null    int64  \n",
      " 4   SOP                500 non-null    float64\n",
      " 5   LOR                500 non-null    float64\n",
      " 6   CGPA               500 non-null    float64\n",
      " 7   Research           500 non-null    int64  \n",
      " 8   Chance of Admit    500 non-null    float64\n",
      "dtypes: float64(4), int64(5)\n",
      "memory usage: 35.3 KB\n"
     ]
    }
   ],
   "source": [
    "#information about dataframe\n",
    "admit.info()"
   ]
  },
  {
   "cell_type": "code",
   "execution_count": 64,
   "id": "6687d48f",
   "metadata": {},
   "outputs": [
    {
     "data": {
      "text/plain": [
       "Index(['SerialNo.', 'GREScore', 'TOEFLScore', 'UniversityRating', 'SOP', 'LOR',\n",
       "       'CGPA', 'Research', 'ChanceofAdmit'],\n",
       "      dtype='object')"
      ]
     },
     "execution_count": 64,
     "metadata": {},
     "output_type": "execute_result"
    }
   ],
   "source": [
    "admit.columns=admit.columns.str.replace(\" \",\"\")\n",
    "admit.columns"
   ]
  },
  {
   "cell_type": "code",
   "execution_count": 65,
   "id": "88d993c7",
   "metadata": {},
   "outputs": [
    {
     "data": {
      "text/plain": [
       "['SerialNo.', 'GREScore', 'TOEFLScore', 'UniversityRating', 'Research']"
      ]
     },
     "execution_count": 65,
     "metadata": {},
     "output_type": "execute_result"
    }
   ],
   "source": [
    "# choosing int columns\n",
    "int_col=admit.select_dtypes(include=[\"int64\"]).columns.tolist()\n",
    "int_col"
   ]
  },
  {
   "cell_type": "code",
   "execution_count": 66,
   "id": "f50a047f",
   "metadata": {},
   "outputs": [
    {
     "data": {
      "text/plain": [
       "['SOP', 'LOR', 'CGPA', 'ChanceofAdmit']"
      ]
     },
     "execution_count": 66,
     "metadata": {},
     "output_type": "execute_result"
    }
   ],
   "source": [
    "# choosing float columns\n",
    "float_col=admit.select_dtypes(include=[\"float64\"]).columns.tolist()\n",
    "float_col"
   ]
  },
  {
   "cell_type": "code",
   "execution_count": 67,
   "id": "1e791ea9",
   "metadata": {},
   "outputs": [
    {
     "data": {
      "text/plain": [
       "int64      5\n",
       "float64    4\n",
       "dtype: int64"
      ]
     },
     "execution_count": 67,
     "metadata": {},
     "output_type": "execute_result"
    }
   ],
   "source": [
    "# unique datatypes\n",
    "admit.dtypes.value_counts()"
   ]
  },
  {
   "cell_type": "code",
   "execution_count": 68,
   "id": "2233f10c",
   "metadata": {
    "scrolled": true
   },
   "outputs": [
    {
     "data": {
      "text/plain": [
       "SerialNo.           500\n",
       "CGPA                184\n",
       "ChanceofAdmit        61\n",
       "GREScore             49\n",
       "TOEFLScore           29\n",
       "SOP                   9\n",
       "LOR                   9\n",
       "UniversityRating      5\n",
       "Research              2\n",
       "dtype: int64"
      ]
     },
     "execution_count": 68,
     "metadata": {},
     "output_type": "execute_result"
    }
   ],
   "source": [
    "#Unique values in dataframe\n",
    "admit.nunique().sort_values(ascending=False)"
   ]
  },
  {
   "cell_type": "code",
   "execution_count": 69,
   "id": "9c9cea11",
   "metadata": {},
   "outputs": [
    {
     "data": {
      "text/plain": [
       "SerialNo.           0\n",
       "GREScore            0\n",
       "TOEFLScore          0\n",
       "UniversityRating    0\n",
       "SOP                 0\n",
       "LOR                 0\n",
       "CGPA                0\n",
       "Research            0\n",
       "ChanceofAdmit       0\n",
       "dtype: int64"
      ]
     },
     "execution_count": 69,
     "metadata": {},
     "output_type": "execute_result"
    }
   ],
   "source": [
    "# we don't have null values identified in info().Lets look again..\n",
    "admit.isnull().sum()"
   ]
  },
  {
   "cell_type": "code",
   "execution_count": 70,
   "id": "cae6d51e",
   "metadata": {},
   "outputs": [
    {
     "data": {
      "text/html": [
       "<div>\n",
       "<style scoped>\n",
       "    .dataframe tbody tr th:only-of-type {\n",
       "        vertical-align: middle;\n",
       "    }\n",
       "\n",
       "    .dataframe tbody tr th {\n",
       "        vertical-align: top;\n",
       "    }\n",
       "\n",
       "    .dataframe thead th {\n",
       "        text-align: right;\n",
       "    }\n",
       "</style>\n",
       "<table border=\"1\" class=\"dataframe\">\n",
       "  <thead>\n",
       "    <tr style=\"text-align: right;\">\n",
       "      <th></th>\n",
       "      <th>SerialNo.</th>\n",
       "      <th>GREScore</th>\n",
       "      <th>TOEFLScore</th>\n",
       "      <th>UniversityRating</th>\n",
       "      <th>SOP</th>\n",
       "      <th>LOR</th>\n",
       "      <th>CGPA</th>\n",
       "      <th>Research</th>\n",
       "      <th>ChanceofAdmit</th>\n",
       "    </tr>\n",
       "  </thead>\n",
       "  <tbody>\n",
       "    <tr>\n",
       "      <th>count</th>\n",
       "      <td>500.000000</td>\n",
       "      <td>500.000000</td>\n",
       "      <td>500.000000</td>\n",
       "      <td>500.000000</td>\n",
       "      <td>500.000000</td>\n",
       "      <td>500.00000</td>\n",
       "      <td>500.000000</td>\n",
       "      <td>500.000000</td>\n",
       "      <td>500.00000</td>\n",
       "    </tr>\n",
       "    <tr>\n",
       "      <th>mean</th>\n",
       "      <td>250.500000</td>\n",
       "      <td>316.472000</td>\n",
       "      <td>107.192000</td>\n",
       "      <td>3.114000</td>\n",
       "      <td>3.374000</td>\n",
       "      <td>3.48400</td>\n",
       "      <td>8.576440</td>\n",
       "      <td>0.560000</td>\n",
       "      <td>0.72174</td>\n",
       "    </tr>\n",
       "    <tr>\n",
       "      <th>std</th>\n",
       "      <td>144.481833</td>\n",
       "      <td>11.295148</td>\n",
       "      <td>6.081868</td>\n",
       "      <td>1.143512</td>\n",
       "      <td>0.991004</td>\n",
       "      <td>0.92545</td>\n",
       "      <td>0.604813</td>\n",
       "      <td>0.496884</td>\n",
       "      <td>0.14114</td>\n",
       "    </tr>\n",
       "    <tr>\n",
       "      <th>min</th>\n",
       "      <td>1.000000</td>\n",
       "      <td>290.000000</td>\n",
       "      <td>92.000000</td>\n",
       "      <td>1.000000</td>\n",
       "      <td>1.000000</td>\n",
       "      <td>1.00000</td>\n",
       "      <td>6.800000</td>\n",
       "      <td>0.000000</td>\n",
       "      <td>0.34000</td>\n",
       "    </tr>\n",
       "    <tr>\n",
       "      <th>25%</th>\n",
       "      <td>125.750000</td>\n",
       "      <td>308.000000</td>\n",
       "      <td>103.000000</td>\n",
       "      <td>2.000000</td>\n",
       "      <td>2.500000</td>\n",
       "      <td>3.00000</td>\n",
       "      <td>8.127500</td>\n",
       "      <td>0.000000</td>\n",
       "      <td>0.63000</td>\n",
       "    </tr>\n",
       "    <tr>\n",
       "      <th>50%</th>\n",
       "      <td>250.500000</td>\n",
       "      <td>317.000000</td>\n",
       "      <td>107.000000</td>\n",
       "      <td>3.000000</td>\n",
       "      <td>3.500000</td>\n",
       "      <td>3.50000</td>\n",
       "      <td>8.560000</td>\n",
       "      <td>1.000000</td>\n",
       "      <td>0.72000</td>\n",
       "    </tr>\n",
       "    <tr>\n",
       "      <th>75%</th>\n",
       "      <td>375.250000</td>\n",
       "      <td>325.000000</td>\n",
       "      <td>112.000000</td>\n",
       "      <td>4.000000</td>\n",
       "      <td>4.000000</td>\n",
       "      <td>4.00000</td>\n",
       "      <td>9.040000</td>\n",
       "      <td>1.000000</td>\n",
       "      <td>0.82000</td>\n",
       "    </tr>\n",
       "    <tr>\n",
       "      <th>max</th>\n",
       "      <td>500.000000</td>\n",
       "      <td>340.000000</td>\n",
       "      <td>120.000000</td>\n",
       "      <td>5.000000</td>\n",
       "      <td>5.000000</td>\n",
       "      <td>5.00000</td>\n",
       "      <td>9.920000</td>\n",
       "      <td>1.000000</td>\n",
       "      <td>0.97000</td>\n",
       "    </tr>\n",
       "  </tbody>\n",
       "</table>\n",
       "</div>"
      ],
      "text/plain": [
       "        SerialNo.    GREScore  TOEFLScore  UniversityRating         SOP  \\\n",
       "count  500.000000  500.000000  500.000000        500.000000  500.000000   \n",
       "mean   250.500000  316.472000  107.192000          3.114000    3.374000   \n",
       "std    144.481833   11.295148    6.081868          1.143512    0.991004   \n",
       "min      1.000000  290.000000   92.000000          1.000000    1.000000   \n",
       "25%    125.750000  308.000000  103.000000          2.000000    2.500000   \n",
       "50%    250.500000  317.000000  107.000000          3.000000    3.500000   \n",
       "75%    375.250000  325.000000  112.000000          4.000000    4.000000   \n",
       "max    500.000000  340.000000  120.000000          5.000000    5.000000   \n",
       "\n",
       "             LOR        CGPA    Research  ChanceofAdmit  \n",
       "count  500.00000  500.000000  500.000000      500.00000  \n",
       "mean     3.48400    8.576440    0.560000        0.72174  \n",
       "std      0.92545    0.604813    0.496884        0.14114  \n",
       "min      1.00000    6.800000    0.000000        0.34000  \n",
       "25%      3.00000    8.127500    0.000000        0.63000  \n",
       "50%      3.50000    8.560000    1.000000        0.72000  \n",
       "75%      4.00000    9.040000    1.000000        0.82000  \n",
       "max      5.00000    9.920000    1.000000        0.97000  "
      ]
     },
     "execution_count": 70,
     "metadata": {},
     "output_type": "execute_result"
    }
   ],
   "source": [
    "# Descriptive Statistics\n",
    "admit.describe()"
   ]
  },
  {
   "cell_type": "code",
   "execution_count": 71,
   "id": "de183777",
   "metadata": {},
   "outputs": [
    {
     "data": {
      "text/html": [
       "<div>\n",
       "<style scoped>\n",
       "    .dataframe tbody tr th:only-of-type {\n",
       "        vertical-align: middle;\n",
       "    }\n",
       "\n",
       "    .dataframe tbody tr th {\n",
       "        vertical-align: top;\n",
       "    }\n",
       "\n",
       "    .dataframe thead th {\n",
       "        text-align: right;\n",
       "    }\n",
       "</style>\n",
       "<table border=\"1\" class=\"dataframe\">\n",
       "  <thead>\n",
       "    <tr style=\"text-align: right;\">\n",
       "      <th></th>\n",
       "      <th>GREScore</th>\n",
       "      <th>TOEFLScore</th>\n",
       "      <th>UniversityRating</th>\n",
       "      <th>SOP</th>\n",
       "      <th>LOR</th>\n",
       "      <th>CGPA</th>\n",
       "      <th>Research</th>\n",
       "      <th>ChanceofAdmit</th>\n",
       "    </tr>\n",
       "  </thead>\n",
       "  <tbody>\n",
       "    <tr>\n",
       "      <th>0</th>\n",
       "      <td>337</td>\n",
       "      <td>118</td>\n",
       "      <td>4</td>\n",
       "      <td>4.5</td>\n",
       "      <td>4.5</td>\n",
       "      <td>9.65</td>\n",
       "      <td>1</td>\n",
       "      <td>0.92</td>\n",
       "    </tr>\n",
       "    <tr>\n",
       "      <th>1</th>\n",
       "      <td>324</td>\n",
       "      <td>107</td>\n",
       "      <td>4</td>\n",
       "      <td>4.0</td>\n",
       "      <td>4.5</td>\n",
       "      <td>8.87</td>\n",
       "      <td>1</td>\n",
       "      <td>0.76</td>\n",
       "    </tr>\n",
       "    <tr>\n",
       "      <th>2</th>\n",
       "      <td>316</td>\n",
       "      <td>104</td>\n",
       "      <td>3</td>\n",
       "      <td>3.0</td>\n",
       "      <td>3.5</td>\n",
       "      <td>8.00</td>\n",
       "      <td>1</td>\n",
       "      <td>0.72</td>\n",
       "    </tr>\n",
       "    <tr>\n",
       "      <th>3</th>\n",
       "      <td>322</td>\n",
       "      <td>110</td>\n",
       "      <td>3</td>\n",
       "      <td>3.5</td>\n",
       "      <td>2.5</td>\n",
       "      <td>8.67</td>\n",
       "      <td>1</td>\n",
       "      <td>0.80</td>\n",
       "    </tr>\n",
       "    <tr>\n",
       "      <th>4</th>\n",
       "      <td>314</td>\n",
       "      <td>103</td>\n",
       "      <td>2</td>\n",
       "      <td>2.0</td>\n",
       "      <td>3.0</td>\n",
       "      <td>8.21</td>\n",
       "      <td>0</td>\n",
       "      <td>0.65</td>\n",
       "    </tr>\n",
       "    <tr>\n",
       "      <th>...</th>\n",
       "      <td>...</td>\n",
       "      <td>...</td>\n",
       "      <td>...</td>\n",
       "      <td>...</td>\n",
       "      <td>...</td>\n",
       "      <td>...</td>\n",
       "      <td>...</td>\n",
       "      <td>...</td>\n",
       "    </tr>\n",
       "    <tr>\n",
       "      <th>495</th>\n",
       "      <td>332</td>\n",
       "      <td>108</td>\n",
       "      <td>5</td>\n",
       "      <td>4.5</td>\n",
       "      <td>4.0</td>\n",
       "      <td>9.02</td>\n",
       "      <td>1</td>\n",
       "      <td>0.87</td>\n",
       "    </tr>\n",
       "    <tr>\n",
       "      <th>496</th>\n",
       "      <td>337</td>\n",
       "      <td>117</td>\n",
       "      <td>5</td>\n",
       "      <td>5.0</td>\n",
       "      <td>5.0</td>\n",
       "      <td>9.87</td>\n",
       "      <td>1</td>\n",
       "      <td>0.96</td>\n",
       "    </tr>\n",
       "    <tr>\n",
       "      <th>497</th>\n",
       "      <td>330</td>\n",
       "      <td>120</td>\n",
       "      <td>5</td>\n",
       "      <td>4.5</td>\n",
       "      <td>5.0</td>\n",
       "      <td>9.56</td>\n",
       "      <td>1</td>\n",
       "      <td>0.93</td>\n",
       "    </tr>\n",
       "    <tr>\n",
       "      <th>498</th>\n",
       "      <td>312</td>\n",
       "      <td>103</td>\n",
       "      <td>4</td>\n",
       "      <td>4.0</td>\n",
       "      <td>5.0</td>\n",
       "      <td>8.43</td>\n",
       "      <td>0</td>\n",
       "      <td>0.73</td>\n",
       "    </tr>\n",
       "    <tr>\n",
       "      <th>499</th>\n",
       "      <td>327</td>\n",
       "      <td>113</td>\n",
       "      <td>4</td>\n",
       "      <td>4.5</td>\n",
       "      <td>4.5</td>\n",
       "      <td>9.04</td>\n",
       "      <td>0</td>\n",
       "      <td>0.84</td>\n",
       "    </tr>\n",
       "  </tbody>\n",
       "</table>\n",
       "<p>500 rows × 8 columns</p>\n",
       "</div>"
      ],
      "text/plain": [
       "     GREScore  TOEFLScore  UniversityRating  SOP  LOR  CGPA  Research  \\\n",
       "0         337         118                 4  4.5  4.5  9.65         1   \n",
       "1         324         107                 4  4.0  4.5  8.87         1   \n",
       "2         316         104                 3  3.0  3.5  8.00         1   \n",
       "3         322         110                 3  3.5  2.5  8.67         1   \n",
       "4         314         103                 2  2.0  3.0  8.21         0   \n",
       "..        ...         ...               ...  ...  ...   ...       ...   \n",
       "495       332         108                 5  4.5  4.0  9.02         1   \n",
       "496       337         117                 5  5.0  5.0  9.87         1   \n",
       "497       330         120                 5  4.5  5.0  9.56         1   \n",
       "498       312         103                 4  4.0  5.0  8.43         0   \n",
       "499       327         113                 4  4.5  4.5  9.04         0   \n",
       "\n",
       "     ChanceofAdmit  \n",
       "0             0.92  \n",
       "1             0.76  \n",
       "2             0.72  \n",
       "3             0.80  \n",
       "4             0.65  \n",
       "..             ...  \n",
       "495           0.87  \n",
       "496           0.96  \n",
       "497           0.93  \n",
       "498           0.73  \n",
       "499           0.84  \n",
       "\n",
       "[500 rows x 8 columns]"
      ]
     },
     "execution_count": 71,
     "metadata": {},
     "output_type": "execute_result"
    }
   ],
   "source": [
    "#Removing unwanted columns\n",
    "new_admit=admit.drop(\"SerialNo.\",axis=1)\n",
    "new_admit"
   ]
  },
  {
   "cell_type": "code",
   "execution_count": 72,
   "id": "4dffe032",
   "metadata": {
    "scrolled": false
   },
   "outputs": [
    {
     "data": {
      "text/plain": [
       "Text(0, 0.5, 'Count')"
      ]
     },
     "execution_count": 72,
     "metadata": {},
     "output_type": "execute_result"
    },
    {
     "data": {
      "image/png": "[encoded data removed]",
      "text/plain": [
       "<Figure size 1000x600 with 1 Axes>"
      ]
     },
     "metadata": {},
     "output_type": "display_data"
    }
   ],
   "source": [
    "# lets check for outliers in int_col\n",
    "sb.set({\"figure.figsize\":(10,6)})\n",
    "pt.title(\"Boxplots for Int_col\")\n",
    "sb.boxplot(new_admit[['GREScore', 'TOEFLScore', 'UniversityRating', 'Research']])\n",
    "pt.xlabel(\"Variables\")\n",
    "pt.ylabel(\"Count\")"
   ]
  },
  {
   "cell_type": "markdown",
   "id": "e55afe91",
   "metadata": {},
   "source": [
    "we see that there are no outliers in int columns"
   ]
  },
  {
   "cell_type": "code",
   "execution_count": 73,
   "id": "fa3bd183",
   "metadata": {},
   "outputs": [
    {
     "data": {
      "text/plain": [
       "Text(0, 0.5, 'Count')"
      ]
     },
     "execution_count": 73,
     "metadata": {},
     "output_type": "execute_result"
    },
    {
     "data": {
      "image/png": "[encoded data removed]",
      "text/plain": [
       "<Figure size 1000x600 with 1 Axes>"
      ]
     },
     "metadata": {},
     "output_type": "display_data"
    }
   ],
   "source": [
    "# lets check for outliers in float_col\n",
    "sb.set({\"figure.figsize\":(10,6)})\n",
    "pt.title(\"Boxplots for Float_col\")\n",
    "sb.boxplot(new_admit[['SOP', 'LOR', 'CGPA', 'ChanceofAdmit']])\n",
    "pt.xlabel(\"Variables\")\n",
    "pt.ylabel(\"Count\")"
   ]
  },
  {
   "cell_type": "markdown",
   "id": "1eff17ec",
   "metadata": {},
   "source": [
    "we see that there are few outliers in LOR and Chance of Admit and that may be acceptable."
   ]
  },
  {
   "cell_type": "code",
   "execution_count": 74,
   "id": "9c08a02f",
   "metadata": {},
   "outputs": [
    {
     "data": {
      "text/plain": [
       "Text(0, 0.5, 'Count')"
      ]
     },
     "execution_count": 74,
     "metadata": {},
     "output_type": "execute_result"
    },
    {
     "data": {
      "image/png": "[encoded data removed]",
      "text/plain": [
       "<Figure size 500x500 with 1 Axes>"
      ]
     },
     "metadata": {},
     "output_type": "display_data"
    }
   ],
   "source": [
    "#plotting unique values \n",
    "sb.set({\"figure.figsize\":(5,5)})\n",
    "sb.barplot(new_admit[['SOP', 'LOR', 'CGPA', 'ChanceofAdmit']])\n",
    "pt.xlabel(\"Variables\")\n",
    "pt.ylabel(\"Count\")"
   ]
  },
  {
   "cell_type": "code",
   "execution_count": null,
   "id": "042700e0",
   "metadata": {},
   "outputs": [],
   "source": []
  },
  {
   "cell_type": "code",
   "execution_count": null,
   "id": "3c575041",
   "metadata": {},
   "outputs": [],
   "source": []
  },
  {
   "cell_type": "markdown",
   "id": "2c198661",
   "metadata": {},
   "source": [
    "### ii) Data Preprocessing "
   ]
  },
  {
   "cell_type": "code",
   "execution_count": null,
   "id": "3526b4d2",
   "metadata": {},
   "outputs": [],
   "source": [
    "#z## ii) Data Preprocessing "
   ]
  },
  {
   "cell_type": "markdown",
   "id": "7086eb4f",
   "metadata": {},
   "source": [
    "<h5>Our aim is to find whether the student got admitted or not admitted.</h5>\n",
    "&emsp; In this dataset, the \"Chance of Admit\" variable is a continuous numerical value representing the probability of admission, ranging between 0 and 1. &emsp; However, to apply classification algorithms, we need to convert this continuous variable into discrete classes."
   ]
  },
  {
   "cell_type": "code",
   "execution_count": 75,
   "id": "a21508d5",
   "metadata": {
    "scrolled": true
   },
   "outputs": [
    {
     "data": {
      "text/plain": [
       "0    1\n",
       "1    1\n",
       "2    1\n",
       "3    1\n",
       "4    1\n",
       "5    1\n",
       "6    1\n",
       "7    1\n",
       "8    0\n",
       "9    0\n",
       "Name: ChanceofAdmit, dtype: int32"
      ]
     },
     "execution_count": 75,
     "metadata": {},
     "output_type": "execute_result"
    }
   ],
   "source": [
    "# Lets change the values in the Admit column to binary. Where 0 indicates \"Not Admitted\", 1 indicates \"Admitted\". \n",
    "new_admit[\"ChanceofAdmit\"]=np.where(new_admit[\"ChanceofAdmit\"]>0.5,1,0)\n",
    "new_admit[\"ChanceofAdmit\"].head(10)"
   ]
  },
  {
   "cell_type": "code",
   "execution_count": 76,
   "id": "e4cebba6",
   "metadata": {},
   "outputs": [
    {
     "data": {
      "text/html": [
       "<div>\n",
       "<style scoped>\n",
       "    .dataframe tbody tr th:only-of-type {\n",
       "        vertical-align: middle;\n",
       "    }\n",
       "\n",
       "    .dataframe tbody tr th {\n",
       "        vertical-align: top;\n",
       "    }\n",
       "\n",
       "    .dataframe thead th {\n",
       "        text-align: right;\n",
       "    }\n",
       "</style>\n",
       "<table border=\"1\" class=\"dataframe\">\n",
       "  <thead>\n",
       "    <tr style=\"text-align: right;\">\n",
       "      <th></th>\n",
       "      <th>GREScore</th>\n",
       "      <th>TOEFLScore</th>\n",
       "      <th>UniversityRating</th>\n",
       "      <th>SOP</th>\n",
       "      <th>LOR</th>\n",
       "      <th>CGPA</th>\n",
       "      <th>Research</th>\n",
       "      <th>ChanceofAdmit</th>\n",
       "      <th>Original_admit</th>\n",
       "    </tr>\n",
       "  </thead>\n",
       "  <tbody>\n",
       "    <tr>\n",
       "      <th>0</th>\n",
       "      <td>337</td>\n",
       "      <td>118</td>\n",
       "      <td>4</td>\n",
       "      <td>4.5</td>\n",
       "      <td>4.5</td>\n",
       "      <td>9.65</td>\n",
       "      <td>1</td>\n",
       "      <td>1</td>\n",
       "      <td>0.92</td>\n",
       "    </tr>\n",
       "    <tr>\n",
       "      <th>1</th>\n",
       "      <td>324</td>\n",
       "      <td>107</td>\n",
       "      <td>4</td>\n",
       "      <td>4.0</td>\n",
       "      <td>4.5</td>\n",
       "      <td>8.87</td>\n",
       "      <td>1</td>\n",
       "      <td>1</td>\n",
       "      <td>0.76</td>\n",
       "    </tr>\n",
       "    <tr>\n",
       "      <th>2</th>\n",
       "      <td>316</td>\n",
       "      <td>104</td>\n",
       "      <td>3</td>\n",
       "      <td>3.0</td>\n",
       "      <td>3.5</td>\n",
       "      <td>8.00</td>\n",
       "      <td>1</td>\n",
       "      <td>1</td>\n",
       "      <td>0.72</td>\n",
       "    </tr>\n",
       "    <tr>\n",
       "      <th>3</th>\n",
       "      <td>322</td>\n",
       "      <td>110</td>\n",
       "      <td>3</td>\n",
       "      <td>3.5</td>\n",
       "      <td>2.5</td>\n",
       "      <td>8.67</td>\n",
       "      <td>1</td>\n",
       "      <td>1</td>\n",
       "      <td>0.80</td>\n",
       "    </tr>\n",
       "    <tr>\n",
       "      <th>4</th>\n",
       "      <td>314</td>\n",
       "      <td>103</td>\n",
       "      <td>2</td>\n",
       "      <td>2.0</td>\n",
       "      <td>3.0</td>\n",
       "      <td>8.21</td>\n",
       "      <td>0</td>\n",
       "      <td>1</td>\n",
       "      <td>0.65</td>\n",
       "    </tr>\n",
       "    <tr>\n",
       "      <th>5</th>\n",
       "      <td>330</td>\n",
       "      <td>115</td>\n",
       "      <td>5</td>\n",
       "      <td>4.5</td>\n",
       "      <td>3.0</td>\n",
       "      <td>9.34</td>\n",
       "      <td>1</td>\n",
       "      <td>1</td>\n",
       "      <td>0.90</td>\n",
       "    </tr>\n",
       "    <tr>\n",
       "      <th>6</th>\n",
       "      <td>321</td>\n",
       "      <td>109</td>\n",
       "      <td>3</td>\n",
       "      <td>3.0</td>\n",
       "      <td>4.0</td>\n",
       "      <td>8.20</td>\n",
       "      <td>1</td>\n",
       "      <td>1</td>\n",
       "      <td>0.75</td>\n",
       "    </tr>\n",
       "    <tr>\n",
       "      <th>7</th>\n",
       "      <td>308</td>\n",
       "      <td>101</td>\n",
       "      <td>2</td>\n",
       "      <td>3.0</td>\n",
       "      <td>4.0</td>\n",
       "      <td>7.90</td>\n",
       "      <td>0</td>\n",
       "      <td>1</td>\n",
       "      <td>0.68</td>\n",
       "    </tr>\n",
       "    <tr>\n",
       "      <th>8</th>\n",
       "      <td>302</td>\n",
       "      <td>102</td>\n",
       "      <td>1</td>\n",
       "      <td>2.0</td>\n",
       "      <td>1.5</td>\n",
       "      <td>8.00</td>\n",
       "      <td>0</td>\n",
       "      <td>0</td>\n",
       "      <td>0.50</td>\n",
       "    </tr>\n",
       "    <tr>\n",
       "      <th>9</th>\n",
       "      <td>323</td>\n",
       "      <td>108</td>\n",
       "      <td>3</td>\n",
       "      <td>3.5</td>\n",
       "      <td>3.0</td>\n",
       "      <td>8.60</td>\n",
       "      <td>0</td>\n",
       "      <td>0</td>\n",
       "      <td>0.45</td>\n",
       "    </tr>\n",
       "  </tbody>\n",
       "</table>\n",
       "</div>"
      ],
      "text/plain": [
       "   GREScore  TOEFLScore  UniversityRating  SOP  LOR  CGPA  Research  \\\n",
       "0       337         118                 4  4.5  4.5  9.65         1   \n",
       "1       324         107                 4  4.0  4.5  8.87         1   \n",
       "2       316         104                 3  3.0  3.5  8.00         1   \n",
       "3       322         110                 3  3.5  2.5  8.67         1   \n",
       "4       314         103                 2  2.0  3.0  8.21         0   \n",
       "5       330         115                 5  4.5  3.0  9.34         1   \n",
       "6       321         109                 3  3.0  4.0  8.20         1   \n",
       "7       308         101                 2  3.0  4.0  7.90         0   \n",
       "8       302         102                 1  2.0  1.5  8.00         0   \n",
       "9       323         108                 3  3.5  3.0  8.60         0   \n",
       "\n",
       "   ChanceofAdmit  Original_admit  \n",
       "0              1            0.92  \n",
       "1              1            0.76  \n",
       "2              1            0.72  \n",
       "3              1            0.80  \n",
       "4              1            0.65  \n",
       "5              1            0.90  \n",
       "6              1            0.75  \n",
       "7              1            0.68  \n",
       "8              0            0.50  \n",
       "9              0            0.45  "
      ]
     },
     "execution_count": 76,
     "metadata": {},
     "output_type": "execute_result"
    }
   ],
   "source": [
    "#lets check the dataframe by adding original values\n",
    "\n",
    "dummy=new_admit.assign(Original_admit=admit[\"ChanceofAdmit\"])\n",
    "dummy.head(10)"
   ]
  },
  {
   "cell_type": "markdown",
   "id": "c2864052",
   "metadata": {},
   "source": [
    "Now the entire data is in numerical format.Lets build our models."
   ]
  },
  {
   "cell_type": "code",
   "execution_count": 77,
   "id": "9709f317",
   "metadata": {},
   "outputs": [],
   "source": [
    "# Lets make response and prediction sets\n",
    "x=new_admit.drop(\"ChanceofAdmit\",axis=1)\n",
    "y=new_admit[\"ChanceofAdmit\"]"
   ]
  },
  {
   "cell_type": "code",
   "execution_count": 78,
   "id": "b2bb746f",
   "metadata": {},
   "outputs": [
    {
     "data": {
      "text/html": [
       "<div>\n",
       "<style scoped>\n",
       "    .dataframe tbody tr th:only-of-type {\n",
       "        vertical-align: middle;\n",
       "    }\n",
       "\n",
       "    .dataframe tbody tr th {\n",
       "        vertical-align: top;\n",
       "    }\n",
       "\n",
       "    .dataframe thead th {\n",
       "        text-align: right;\n",
       "    }\n",
       "</style>\n",
       "<table border=\"1\" class=\"dataframe\">\n",
       "  <thead>\n",
       "    <tr style=\"text-align: right;\">\n",
       "      <th></th>\n",
       "      <th>GREScore</th>\n",
       "      <th>TOEFLScore</th>\n",
       "      <th>UniversityRating</th>\n",
       "      <th>SOP</th>\n",
       "      <th>LOR</th>\n",
       "      <th>CGPA</th>\n",
       "      <th>Research</th>\n",
       "    </tr>\n",
       "  </thead>\n",
       "  <tbody>\n",
       "    <tr>\n",
       "      <th>0</th>\n",
       "      <td>337</td>\n",
       "      <td>118</td>\n",
       "      <td>4</td>\n",
       "      <td>4.5</td>\n",
       "      <td>4.5</td>\n",
       "      <td>9.65</td>\n",
       "      <td>1</td>\n",
       "    </tr>\n",
       "    <tr>\n",
       "      <th>1</th>\n",
       "      <td>324</td>\n",
       "      <td>107</td>\n",
       "      <td>4</td>\n",
       "      <td>4.0</td>\n",
       "      <td>4.5</td>\n",
       "      <td>8.87</td>\n",
       "      <td>1</td>\n",
       "    </tr>\n",
       "    <tr>\n",
       "      <th>2</th>\n",
       "      <td>316</td>\n",
       "      <td>104</td>\n",
       "      <td>3</td>\n",
       "      <td>3.0</td>\n",
       "      <td>3.5</td>\n",
       "      <td>8.00</td>\n",
       "      <td>1</td>\n",
       "    </tr>\n",
       "  </tbody>\n",
       "</table>\n",
       "</div>"
      ],
      "text/plain": [
       "   GREScore  TOEFLScore  UniversityRating  SOP  LOR  CGPA  Research\n",
       "0       337         118                 4  4.5  4.5  9.65         1\n",
       "1       324         107                 4  4.0  4.5  8.87         1\n",
       "2       316         104                 3  3.0  3.5  8.00         1"
      ]
     },
     "execution_count": 78,
     "metadata": {},
     "output_type": "execute_result"
    }
   ],
   "source": [
    "x.head(3)"
   ]
  },
  {
   "cell_type": "code",
   "execution_count": 79,
   "id": "4d044296",
   "metadata": {},
   "outputs": [
    {
     "data": {
      "text/plain": [
       "0    1\n",
       "1    1\n",
       "2    1\n",
       "Name: ChanceofAdmit, dtype: int32"
      ]
     },
     "execution_count": 79,
     "metadata": {},
     "output_type": "execute_result"
    }
   ],
   "source": [
    "y.head(3)"
   ]
  },
  {
   "cell_type": "code",
   "execution_count": 80,
   "id": "ec2bc7d1",
   "metadata": {},
   "outputs": [],
   "source": [
    "# Lets have training and testing data\n",
    "xtrain,xtest,ytrain,ytest=train_test_split(x,y,test_size=0.30,random_state=49)"
   ]
  },
  {
   "cell_type": "code",
   "execution_count": 81,
   "id": "882d599d",
   "metadata": {},
   "outputs": [
    {
     "data": {
      "text/html": [
       "<div>\n",
       "<style scoped>\n",
       "    .dataframe tbody tr th:only-of-type {\n",
       "        vertical-align: middle;\n",
       "    }\n",
       "\n",
       "    .dataframe tbody tr th {\n",
       "        vertical-align: top;\n",
       "    }\n",
       "\n",
       "    .dataframe thead th {\n",
       "        text-align: right;\n",
       "    }\n",
       "</style>\n",
       "<table border=\"1\" class=\"dataframe\">\n",
       "  <thead>\n",
       "    <tr style=\"text-align: right;\">\n",
       "      <th></th>\n",
       "      <th>GREScore</th>\n",
       "      <th>TOEFLScore</th>\n",
       "      <th>UniversityRating</th>\n",
       "      <th>SOP</th>\n",
       "      <th>LOR</th>\n",
       "      <th>CGPA</th>\n",
       "      <th>Research</th>\n",
       "    </tr>\n",
       "  </thead>\n",
       "  <tbody>\n",
       "    <tr>\n",
       "      <th>184</th>\n",
       "      <td>316</td>\n",
       "      <td>106</td>\n",
       "      <td>2</td>\n",
       "      <td>2.5</td>\n",
       "      <td>4.0</td>\n",
       "      <td>8.32</td>\n",
       "      <td>0</td>\n",
       "    </tr>\n",
       "    <tr>\n",
       "      <th>340</th>\n",
       "      <td>312</td>\n",
       "      <td>107</td>\n",
       "      <td>3</td>\n",
       "      <td>3.0</td>\n",
       "      <td>3.0</td>\n",
       "      <td>8.46</td>\n",
       "      <td>1</td>\n",
       "    </tr>\n",
       "    <tr>\n",
       "      <th>21</th>\n",
       "      <td>325</td>\n",
       "      <td>114</td>\n",
       "      <td>4</td>\n",
       "      <td>3.0</td>\n",
       "      <td>2.0</td>\n",
       "      <td>8.40</td>\n",
       "      <td>0</td>\n",
       "    </tr>\n",
       "    <tr>\n",
       "      <th>207</th>\n",
       "      <td>310</td>\n",
       "      <td>102</td>\n",
       "      <td>3</td>\n",
       "      <td>3.5</td>\n",
       "      <td>4.0</td>\n",
       "      <td>8.02</td>\n",
       "      <td>1</td>\n",
       "    </tr>\n",
       "    <tr>\n",
       "      <th>489</th>\n",
       "      <td>302</td>\n",
       "      <td>110</td>\n",
       "      <td>3</td>\n",
       "      <td>4.0</td>\n",
       "      <td>4.5</td>\n",
       "      <td>8.50</td>\n",
       "      <td>0</td>\n",
       "    </tr>\n",
       "  </tbody>\n",
       "</table>\n",
       "</div>"
      ],
      "text/plain": [
       "     GREScore  TOEFLScore  UniversityRating  SOP  LOR  CGPA  Research\n",
       "184       316         106                 2  2.5  4.0  8.32         0\n",
       "340       312         107                 3  3.0  3.0  8.46         1\n",
       "21        325         114                 4  3.0  2.0  8.40         0\n",
       "207       310         102                 3  3.5  4.0  8.02         1\n",
       "489       302         110                 3  4.0  4.5  8.50         0"
      ]
     },
     "execution_count": 81,
     "metadata": {},
     "output_type": "execute_result"
    }
   ],
   "source": [
    "xtrain.head(5)"
   ]
  },
  {
   "cell_type": "code",
   "execution_count": 82,
   "id": "e0f6822d",
   "metadata": {},
   "outputs": [
    {
     "data": {
      "text/html": [
       "<div>\n",
       "<style scoped>\n",
       "    .dataframe tbody tr th:only-of-type {\n",
       "        vertical-align: middle;\n",
       "    }\n",
       "\n",
       "    .dataframe tbody tr th {\n",
       "        vertical-align: top;\n",
       "    }\n",
       "\n",
       "    .dataframe thead th {\n",
       "        text-align: right;\n",
       "    }\n",
       "</style>\n",
       "<table border=\"1\" class=\"dataframe\">\n",
       "  <thead>\n",
       "    <tr style=\"text-align: right;\">\n",
       "      <th></th>\n",
       "      <th>GREScore</th>\n",
       "      <th>TOEFLScore</th>\n",
       "      <th>UniversityRating</th>\n",
       "      <th>SOP</th>\n",
       "      <th>LOR</th>\n",
       "      <th>CGPA</th>\n",
       "      <th>Research</th>\n",
       "    </tr>\n",
       "  </thead>\n",
       "  <tbody>\n",
       "    <tr>\n",
       "      <th>339</th>\n",
       "      <td>324</td>\n",
       "      <td>107</td>\n",
       "      <td>5</td>\n",
       "      <td>3.5</td>\n",
       "      <td>4.0</td>\n",
       "      <td>8.66</td>\n",
       "      <td>1</td>\n",
       "    </tr>\n",
       "    <tr>\n",
       "      <th>371</th>\n",
       "      <td>324</td>\n",
       "      <td>110</td>\n",
       "      <td>3</td>\n",
       "      <td>3.5</td>\n",
       "      <td>3.0</td>\n",
       "      <td>9.22</td>\n",
       "      <td>1</td>\n",
       "    </tr>\n",
       "    <tr>\n",
       "      <th>455</th>\n",
       "      <td>305</td>\n",
       "      <td>102</td>\n",
       "      <td>2</td>\n",
       "      <td>1.5</td>\n",
       "      <td>2.5</td>\n",
       "      <td>7.64</td>\n",
       "      <td>0</td>\n",
       "    </tr>\n",
       "    <tr>\n",
       "      <th>239</th>\n",
       "      <td>299</td>\n",
       "      <td>100</td>\n",
       "      <td>1</td>\n",
       "      <td>1.5</td>\n",
       "      <td>2.0</td>\n",
       "      <td>7.89</td>\n",
       "      <td>0</td>\n",
       "    </tr>\n",
       "    <tr>\n",
       "      <th>85</th>\n",
       "      <td>319</td>\n",
       "      <td>103</td>\n",
       "      <td>4</td>\n",
       "      <td>4.5</td>\n",
       "      <td>3.5</td>\n",
       "      <td>8.66</td>\n",
       "      <td>0</td>\n",
       "    </tr>\n",
       "  </tbody>\n",
       "</table>\n",
       "</div>"
      ],
      "text/plain": [
       "     GREScore  TOEFLScore  UniversityRating  SOP  LOR  CGPA  Research\n",
       "339       324         107                 5  3.5  4.0  8.66         1\n",
       "371       324         110                 3  3.5  3.0  9.22         1\n",
       "455       305         102                 2  1.5  2.5  7.64         0\n",
       "239       299         100                 1  1.5  2.0  7.89         0\n",
       "85        319         103                 4  4.5  3.5  8.66         0"
      ]
     },
     "execution_count": 82,
     "metadata": {},
     "output_type": "execute_result"
    }
   ],
   "source": [
    "xtest.head(5)"
   ]
  },
  {
   "cell_type": "code",
   "execution_count": 83,
   "id": "03a09ba6",
   "metadata": {},
   "outputs": [
    {
     "data": {
      "text/plain": [
       "184    1\n",
       "340    1\n",
       "21     1\n",
       "207    1\n",
       "489    1\n",
       "Name: ChanceofAdmit, dtype: int32"
      ]
     },
     "execution_count": 83,
     "metadata": {},
     "output_type": "execute_result"
    }
   ],
   "source": [
    "ytrain.head(5)"
   ]
  },
  {
   "cell_type": "code",
   "execution_count": 84,
   "id": "06ef7ea0",
   "metadata": {},
   "outputs": [
    {
     "data": {
      "text/plain": [
       "339    1\n",
       "371    1\n",
       "455    1\n",
       "239    1\n",
       "85     1\n",
       "Name: ChanceofAdmit, dtype: int32"
      ]
     },
     "execution_count": 84,
     "metadata": {},
     "output_type": "execute_result"
    }
   ],
   "source": [
    "ytest.head(5)"
   ]
  },
  {
   "cell_type": "code",
   "execution_count": 85,
   "id": "c371de9e",
   "metadata": {},
   "outputs": [],
   "source": [
    "#preprocessing numeric data using standardization\n",
    "scaler=StandardScaler()\n",
    "xtrain_scale=scaler.fit_transform(xtrain)\n",
    "xtest_scale=scaler.transform(xtest)"
   ]
  },
  {
   "cell_type": "markdown",
   "id": "da04d27b",
   "metadata": {},
   "source": [
    "Lets model the data"
   ]
  },
  {
   "cell_type": "markdown",
   "id": "6eca14ba",
   "metadata": {},
   "source": [
    "### iii)  Model Building & Evaluation"
   ]
  },
  {
   "cell_type": "code",
   "execution_count": 86,
   "id": "067bddad",
   "metadata": {},
   "outputs": [
    {
     "name": "stdout",
     "output_type": "stream",
     "text": [
      "KNeighborsClassifier()\n",
      "Train Accuracy :95.14286 \n",
      "Test Accuracy :92.00000\n",
      "Training Time : 0.00 seconds.\n"
     ]
    }
   ],
   "source": [
    "# KNN Algo..\n",
    "knn=KNeighborsClassifier(n_neighbors=5)\n",
    "\n",
    "start_knn=time.time()\n",
    "knn.fit(xtrain_scale,ytrain)\n",
    "end_knn=time.time()\n",
    "\n",
    "ytest_pred=knn.predict(xtest_scale)\n",
    "acc_knn=accuracy_score(ytest,ytest_pred)*100\n",
    "\n",
    "train_score_knn=knn.score(xtrain_scale,ytrain)*100\n",
    "\n",
    "print(knn)\n",
    "print(\"Train Accuracy :{:.5f} \".format(train_score_knn))\n",
    "print(\"Test Accuracy :{:.5f}\".format(acc_knn))\n",
    "print(\"Training Time : {:.2f} seconds.\".format(end_knn-start_knn))"
   ]
  },
  {
   "cell_type": "code",
   "execution_count": 87,
   "id": "011f88e1",
   "metadata": {},
   "outputs": [
    {
     "name": "stdout",
     "output_type": "stream",
     "text": [
      "DecisionTreeClassifier()\n",
      "Train Accuracy :100.00000\n",
      "Test Accuracy :91.33333\n",
      "Training Time : 0.00 seconds.\n"
     ]
    }
   ],
   "source": [
    "# DT Algo..\n",
    "dt=DecisionTreeClassifier()\n",
    "\n",
    "start_dt=time.time()\n",
    "dt.fit(xtrain_scale,ytrain)\n",
    "end_dt=time.time()\n",
    "\n",
    "ytest_pred1=dt.predict(xtest_scale)\n",
    "acc_dt=accuracy_score(ytest,ytest_pred1)*100\n",
    "\n",
    "train_score_dt=dt.score(xtrain_scale,ytrain)*100\n",
    "\n",
    "\n",
    "print(dt)\n",
    "print(\"Train Accuracy :{:.5f}\".format(train_score_dt))\n",
    "print(\"Test Accuracy :{:.5f}\".format(acc_dt))\n",
    "print(\"Training Time : {:.2f} seconds.\".format(end_dt-start_dt))\n"
   ]
  },
  {
   "cell_type": "code",
   "execution_count": 88,
   "id": "267f00b9",
   "metadata": {},
   "outputs": [
    {
     "name": "stdout",
     "output_type": "stream",
     "text": [
      "GaussianNB()\n",
      "Train Accuracy :85.42857\n",
      "Test Accuracy :86.66667\n",
      "Training Time : 0.00 seconds.\n"
     ]
    }
   ],
   "source": [
    "# NB Algo..\n",
    "nb=GaussianNB()\n",
    "\n",
    "start_nb=time.time()\n",
    "nb.fit(xtrain_scale,ytrain)\n",
    "end_nb=time.time()\n",
    "\n",
    "ytest_pred2=nb.predict(xtest_scale)\n",
    "acc_nb=accuracy_score(ytest,ytest_pred2)*100\n",
    "\n",
    "train_score_nb=nb.score(xtrain_scale,ytrain)*100\n",
    "\n",
    "print(nb)\n",
    "print(\"Train Accuracy :{:.5f}\".format(train_score_nb))\n",
    "print(\"Test Accuracy :{:.5f}\".format(acc_nb))\n",
    "print(\"Training Time : {:.2f} seconds.\".format(end_nb-start_nb))"
   ]
  },
  {
   "cell_type": "code",
   "execution_count": 89,
   "id": "837c9aae",
   "metadata": {},
   "outputs": [
    {
     "name": "stdout",
     "output_type": "stream",
     "text": [
      "LogisticRegression()\n",
      "Train Accuracy :94.85714\n",
      "Test Accuracy :94.00000\n",
      "Training Time : 0.00 seconds.\n"
     ]
    }
   ],
   "source": [
    "# Logistic Algo..\n",
    "log=LogisticRegression()\n",
    "\n",
    "start_log=time.time()\n",
    "log.fit(xtrain_scale,ytrain)\n",
    "end_log=time.time()\n",
    "\n",
    "ytest_pred3=log.predict(xtest_scale)\n",
    "acc_log=accuracy_score(ytest,ytest_pred3)*100\n",
    "\n",
    "train_score_log=log.score(xtrain_scale,ytrain)*100\n",
    "\n",
    "print(log)\n",
    "print(\"Train Accuracy :{:.5f}\".format(train_score_log))\n",
    "print(\"Test Accuracy :{:.5f}\".format(acc_log))\n",
    "print(\"Training Time : {:.2f} seconds.\".format(end_log-start_log))"
   ]
  },
  {
   "cell_type": "code",
   "execution_count": 90,
   "id": "1543d7fc",
   "metadata": {},
   "outputs": [
    {
     "name": "stdout",
     "output_type": "stream",
     "text": [
      "SVC()\n",
      "Train Accuracy :94.28571\n",
      "Test Accuracy :92.00000\n",
      "Training Time : 0.00 seconds.\n"
     ]
    }
   ],
   "source": [
    "# SVC Algo..\n",
    "sv=SVC()\n",
    "\n",
    "start_sv=time.time()\n",
    "sv.fit(xtrain_scale,ytrain)\n",
    "end_sv=time.time()\n",
    "\n",
    "ytest_pred4=sv.predict(xtest_scale)\n",
    "acc_sv=accuracy_score(ytest,ytest_pred4)*100\n",
    "\n",
    "train_score_sv=sv.score(xtrain_scale,ytrain)*100\n",
    "\n",
    "print(sv)\n",
    "print(\"Train Accuracy :{:.5f}\".format(train_score_sv))\n",
    "print(\"Test Accuracy :{:.5f}\".format(acc_sv))\n",
    "print(\"Training Time : {:.2f} seconds.\".format(end_sv-start_sv))"
   ]
  },
  {
   "cell_type": "code",
   "execution_count": 91,
   "id": "58da5c22",
   "metadata": {},
   "outputs": [
    {
     "name": "stdout",
     "output_type": "stream",
     "text": [
      "RandomForestClassifier()\n",
      "Train Accuracy :100.00000\n",
      "Test Accuracy :94.00000\n",
      "Training Time : 0.13 seconds.\n"
     ]
    }
   ],
   "source": [
    "# RandomForest Algo..\n",
    "rf=RandomForestClassifier()\n",
    "\n",
    "start_rf=time.time()\n",
    "rf.fit(xtrain_scale,ytrain)\n",
    "end_rf=time.time()\n",
    "\n",
    "ytest_pred5=rf.predict(xtest_scale)\n",
    "acc_rf=accuracy_score(ytest,ytest_pred5)*100\n",
    "\n",
    "train_score_rf=rf.score(xtrain_scale,ytrain)*100\n",
    "\n",
    "print(rf)\n",
    "print(\"Train Accuracy :{:.5f}\".format(train_score_rf))\n",
    "print(\"Test Accuracy :{:.5f}\".format(acc_rf))\n",
    "print(\"Training Time : {:.2f} seconds.\".format(end_rf-start_rf))"
   ]
  },
  {
   "cell_type": "code",
   "execution_count": 92,
   "id": "f5df7b9e",
   "metadata": {},
   "outputs": [
    {
     "name": "stdout",
     "output_type": "stream",
     "text": [
      "GradientBoostingClassifier()\n",
      "Train Accuracy :99.42857\n",
      "Test Accuracy :94.66667\n",
      "Training Time : 0.08 seconds.\n"
     ]
    }
   ],
   "source": [
    "# GradientBoosting Algo..\n",
    "gb=GradientBoostingClassifier()\n",
    "\n",
    "start_gb=time.time()\n",
    "gb.fit(xtrain_scale,ytrain)\n",
    "end_gb=time.time()\n",
    "\n",
    "ytest_pred6=gb.predict(xtest_scale)\n",
    "acc_gb=accuracy_score(ytest,ytest_pred6)*100\n",
    "\n",
    "train_score_gb=gb.score(xtrain_scale,ytrain)*100\n",
    "\n",
    "print(gb)\n",
    "print(\"Train Accuracy :{:.5f}\".format(train_score_gb))\n",
    "print(\"Test Accuracy :{:.5f}\".format(acc_gb))\n",
    "print(\"Training Time : {:.2f} seconds.\".format(end_gb-start_gb))"
   ]
  },
  {
   "cell_type": "code",
   "execution_count": null,
   "id": "2f1181da",
   "metadata": {},
   "outputs": [],
   "source": []
  },
  {
   "cell_type": "code",
   "execution_count": 93,
   "id": "fa8bd178",
   "metadata": {},
   "outputs": [
    {
     "data": {
      "text/html": [
       "<div>\n",
       "<style scoped>\n",
       "    .dataframe tbody tr th:only-of-type {\n",
       "        vertical-align: middle;\n",
       "    }\n",
       "\n",
       "    .dataframe tbody tr th {\n",
       "        vertical-align: top;\n",
       "    }\n",
       "\n",
       "    .dataframe thead th {\n",
       "        text-align: right;\n",
       "    }\n",
       "</style>\n",
       "<table border=\"1\" class=\"dataframe\">\n",
       "  <thead>\n",
       "    <tr style=\"text-align: right;\">\n",
       "      <th></th>\n",
       "      <th>Model</th>\n",
       "      <th>Train_Accuracy</th>\n",
       "      <th>Test_Accuracy</th>\n",
       "    </tr>\n",
       "  </thead>\n",
       "  <tbody>\n",
       "    <tr>\n",
       "      <th>0</th>\n",
       "      <td>Logistic Classifier</td>\n",
       "      <td>94.857143</td>\n",
       "      <td>94.000000</td>\n",
       "    </tr>\n",
       "    <tr>\n",
       "      <th>1</th>\n",
       "      <td>DecisionTree Classifier</td>\n",
       "      <td>100.000000</td>\n",
       "      <td>91.333333</td>\n",
       "    </tr>\n",
       "    <tr>\n",
       "      <th>2</th>\n",
       "      <td>KNeighbour Classifier</td>\n",
       "      <td>95.142857</td>\n",
       "      <td>92.000000</td>\n",
       "    </tr>\n",
       "    <tr>\n",
       "      <th>3</th>\n",
       "      <td>Random Forest Classifier</td>\n",
       "      <td>100.000000</td>\n",
       "      <td>94.000000</td>\n",
       "    </tr>\n",
       "    <tr>\n",
       "      <th>4</th>\n",
       "      <td>Support Vector Classifier</td>\n",
       "      <td>94.285714</td>\n",
       "      <td>92.000000</td>\n",
       "    </tr>\n",
       "    <tr>\n",
       "      <th>5</th>\n",
       "      <td>NaiveBayes Classifier</td>\n",
       "      <td>85.428571</td>\n",
       "      <td>86.666667</td>\n",
       "    </tr>\n",
       "    <tr>\n",
       "      <th>6</th>\n",
       "      <td>GradientBoosting Classifier</td>\n",
       "      <td>99.428571</td>\n",
       "      <td>94.666667</td>\n",
       "    </tr>\n",
       "  </tbody>\n",
       "</table>\n",
       "</div>"
      ],
      "text/plain": [
       "                         Model  Train_Accuracy  Test_Accuracy\n",
       "0          Logistic Classifier       94.857143      94.000000\n",
       "1      DecisionTree Classifier      100.000000      91.333333\n",
       "2        KNeighbour Classifier       95.142857      92.000000\n",
       "3     Random Forest Classifier      100.000000      94.000000\n",
       "4    Support Vector Classifier       94.285714      92.000000\n",
       "5        NaiveBayes Classifier       85.428571      86.666667\n",
       "6  GradientBoosting Classifier       99.428571      94.666667"
      ]
     },
     "execution_count": 93,
     "metadata": {},
     "output_type": "execute_result"
    }
   ],
   "source": [
    "model_metrics=[]\n",
    "\n",
    "model_metrics.append((\"Logistic Classifier\",train_score_log,acc_log))\n",
    "model_metrics.append((\"DecisionTree Classifier\",train_score_dt,acc_dt))\n",
    "model_metrics.append((\"KNeighbour Classifier\",train_score_knn,acc_knn))\n",
    "model_metrics.append((\"Random Forest Classifier\",train_score_rf,acc_rf))\n",
    "model_metrics.append((\"Support Vector Classifier\",train_score_sv,acc_sv))\n",
    "model_metrics.append((\"NaiveBayes Classifier\",train_score_nb,acc_nb))\n",
    "model_metrics.append((\"GradientBoosting Classifier\",train_score_gb,acc_gb))\n",
    "\n",
    "metrix=pd.DataFrame(model_metrics,columns=[\"Model\",\"Train_Accuracy\",\"Test_Accuracy\"])\n",
    "metrix"
   ]
  },
  {
   "cell_type": "code",
   "execution_count": 94,
   "id": "3f7ad85a",
   "metadata": {},
   "outputs": [
    {
     "data": {
      "text/plain": [
       "Model             Logistic Classifier\n",
       "Train_Accuracy              94.857143\n",
       "Test_Accuracy                    94.0\n",
       "Name: 0, dtype: object"
      ]
     },
     "execution_count": 94,
     "metadata": {},
     "output_type": "execute_result"
    }
   ],
   "source": [
    "BEST_MODEL=metrix.loc[metrix['Train_Accuracy'].idxmax() & metrix['Test_Accuracy'].idxmax()] \n",
    "BEST_MODEL"
   ]
  },
  {
   "cell_type": "code",
   "execution_count": null,
   "id": "274e08e7",
   "metadata": {},
   "outputs": [],
   "source": []
  },
  {
   "cell_type": "markdown",
   "id": "c4fafcdd",
   "metadata": {},
   "source": [
    "<h4>~: HyperTuning of Parameters :~"
   ]
  },
  {
   "cell_type": "code",
   "execution_count": 138,
   "id": "a4ab85ff",
   "metadata": {},
   "outputs": [],
   "source": [
    "# Tuning Logistic Classifier using GridSearchCV\n",
    "\n",
    "paras_log={\"C\":[0.1,1,10],\"penalty\":[\"l2\"]}\n",
    "gs_cv=GridSearchCV(LogisticRegression(),paras_log,cv=5)\n",
    "\n",
    "gs_cv.fit(xtrain_scale,ytrain)\n",
    "pred_val=gs_cv.predict(xtest_scale)\n",
    "\n",
    "# Best Parameter\n",
    "best_par=gs_cv.best_params_\n",
    "\n",
    "#Best_Score\n",
    "score=gs_cv.best_score_*100\n"
   ]
  },
  {
   "cell_type": "code",
   "execution_count": 140,
   "id": "1797f3c5",
   "metadata": {},
   "outputs": [
    {
     "data": {
      "text/html": [
       "<style>#sk-container-id-3 {color: black;background-color: white;}#sk-container-id-3 pre{padding: 0;}#sk-container-id-3 div.sk-toggleable {background-color: white;}#sk-container-id-3 label.sk-toggleable__label {cursor: pointer;display: block;width: 100%;margin-bottom: 0;padding: 0.3em;box-sizing: border-box;text-align: center;}#sk-container-id-3 label.sk-toggleable__label-arrow:before {content: \"▸\";float: left;margin-right: 0.25em;color: #696969;}#sk-container-id-3 label.sk-toggleable__label-arrow:hover:before {color: black;}#sk-container-id-3 div.sk-estimator:hover label.sk-toggleable__label-arrow:before {color: black;}#sk-container-id-3 div.sk-toggleable__content {max-height: 0;max-width: 0;overflow: hidden;text-align: left;background-color: #f0f8ff;}#sk-container-id-3 div.sk-toggleable__content pre {margin: 0.2em;color: black;border-radius: 0.25em;background-color: #f0f8ff;}#sk-container-id-3 input.sk-toggleable__control:checked~div.sk-toggleable__content {max-height: 200px;max-width: 100%;overflow: auto;}#sk-container-id-3 input.sk-toggleable__control:checked~label.sk-toggleable__label-arrow:before {content: \"▾\";}#sk-container-id-3 div.sk-estimator input.sk-toggleable__control:checked~label.sk-toggleable__label {background-color: #d4ebff;}#sk-container-id-3 div.sk-label input.sk-toggleable__control:checked~label.sk-toggleable__label {background-color: #d4ebff;}#sk-container-id-3 input.sk-hidden--visually {border: 0;clip: rect(1px 1px 1px 1px);clip: rect(1px, 1px, 1px, 1px);height: 1px;margin: -1px;overflow: hidden;padding: 0;position: absolute;width: 1px;}#sk-container-id-3 div.sk-estimator {font-family: monospace;background-color: #f0f8ff;border: 1px dotted black;border-radius: 0.25em;box-sizing: border-box;margin-bottom: 0.5em;}#sk-container-id-3 div.sk-estimator:hover {background-color: #d4ebff;}#sk-container-id-3 div.sk-parallel-item::after {content: \"\";width: 100%;border-bottom: 1px solid gray;flex-grow: 1;}#sk-container-id-3 div.sk-label:hover label.sk-toggleable__label {background-color: #d4ebff;}#sk-container-id-3 div.sk-serial::before {content: \"\";position: absolute;border-left: 1px solid gray;box-sizing: border-box;top: 0;bottom: 0;left: 50%;z-index: 0;}#sk-container-id-3 div.sk-serial {display: flex;flex-direction: column;align-items: center;background-color: white;padding-right: 0.2em;padding-left: 0.2em;position: relative;}#sk-container-id-3 div.sk-item {position: relative;z-index: 1;}#sk-container-id-3 div.sk-parallel {display: flex;align-items: stretch;justify-content: center;background-color: white;position: relative;}#sk-container-id-3 div.sk-item::before, #sk-container-id-3 div.sk-parallel-item::before {content: \"\";position: absolute;border-left: 1px solid gray;box-sizing: border-box;top: 0;bottom: 0;left: 50%;z-index: -1;}#sk-container-id-3 div.sk-parallel-item {display: flex;flex-direction: column;z-index: 1;position: relative;background-color: white;}#sk-container-id-3 div.sk-parallel-item:first-child::after {align-self: flex-end;width: 50%;}#sk-container-id-3 div.sk-parallel-item:last-child::after {align-self: flex-start;width: 50%;}#sk-container-id-3 div.sk-parallel-item:only-child::after {width: 0;}#sk-container-id-3 div.sk-dashed-wrapped {border: 1px dashed gray;margin: 0 0.4em 0.5em 0.4em;box-sizing: border-box;padding-bottom: 0.4em;background-color: white;}#sk-container-id-3 div.sk-label label {font-family: monospace;font-weight: bold;display: inline-block;line-height: 1.2em;}#sk-container-id-3 div.sk-label-container {text-align: center;}#sk-container-id-3 div.sk-container {/* jupyter's `normalize.less` sets `[hidden] { display: none; }` but bootstrap.min.css set `[hidden] { display: none !important; }` so we also need the `!important` here to be able to override the default hidden behavior on the sphinx rendered scikit-learn.org. See: https://github.com/scikit-learn/scikit-learn/issues/21755 */display: inline-block !important;position: relative;}#sk-container-id-3 div.sk-text-repr-fallback {display: none;}</style><div id=\"sk-container-id-3\" class=\"sk-top-container\"><div class=\"sk-text-repr-fallback\"><pre>GridSearchCV(cv=5, estimator=LogisticRegression(),\n",
       "             param_grid={&#x27;C&#x27;: [0.1, 1, 10], &#x27;penalty&#x27;: [&#x27;l2&#x27;]})</pre><b>In a Jupyter environment, please rerun this cell to show the HTML representation or trust the notebook. <br />On GitHub, the HTML representation is unable to render, please try loading this page with nbviewer.org.</b></div><div class=\"sk-container\" hidden><div class=\"sk-item sk-dashed-wrapped\"><div class=\"sk-label-container\"><div class=\"sk-label sk-toggleable\"><input class=\"sk-toggleable__control sk-hidden--visually\" id=\"sk-estimator-id-7\" type=\"checkbox\" ><label for=\"sk-estimator-id-7\" class=\"sk-toggleable__label sk-toggleable__label-arrow\">GridSearchCV</label><div class=\"sk-toggleable__content\"><pre>GridSearchCV(cv=5, estimator=LogisticRegression(),\n",
       "             param_grid={&#x27;C&#x27;: [0.1, 1, 10], &#x27;penalty&#x27;: [&#x27;l2&#x27;]})</pre></div></div></div><div class=\"sk-parallel\"><div class=\"sk-parallel-item\"><div class=\"sk-item\"><div class=\"sk-label-container\"><div class=\"sk-label sk-toggleable\"><input class=\"sk-toggleable__control sk-hidden--visually\" id=\"sk-estimator-id-8\" type=\"checkbox\" ><label for=\"sk-estimator-id-8\" class=\"sk-toggleable__label sk-toggleable__label-arrow\">estimator: LogisticRegression</label><div class=\"sk-toggleable__content\"><pre>LogisticRegression()</pre></div></div></div><div class=\"sk-serial\"><div class=\"sk-item\"><div class=\"sk-estimator sk-toggleable\"><input class=\"sk-toggleable__control sk-hidden--visually\" id=\"sk-estimator-id-9\" type=\"checkbox\" ><label for=\"sk-estimator-id-9\" class=\"sk-toggleable__label sk-toggleable__label-arrow\">LogisticRegression</label><div class=\"sk-toggleable__content\"><pre>LogisticRegression()</pre></div></div></div></div></div></div></div></div></div></div>"
      ],
      "text/plain": [
       "GridSearchCV(cv=5, estimator=LogisticRegression(),\n",
       "             param_grid={'C': [0.1, 1, 10], 'penalty': ['l2']})"
      ]
     },
     "execution_count": 140,
     "metadata": {},
     "output_type": "execute_result"
    }
   ],
   "source": [
    "# Algorithm \n",
    "gs_cv"
   ]
  },
  {
   "cell_type": "code",
   "execution_count": 143,
   "id": "8abb4ab0",
   "metadata": {
    "scrolled": false
   },
   "outputs": [
    {
     "name": "stdout",
     "output_type": "stream",
     "text": [
      "For GridSearchCV(), We have ,\n",
      "----------------------------------------\n",
      "Best Parameter : {'C': 1, 'penalty': 'l2'}\n",
      "Best score : 94.0\n",
      "----------------------------------------\n"
     ]
    }
   ],
   "source": [
    "print(\"For GridSearchCV(), We have ,\")\n",
    "print(\"-\"*40)\n",
    "print(\"Best Parameter :\",best_par)\n",
    "print(\"Best score :\",score)\n",
    "print(\"-\"*40)\n"
   ]
  },
  {
   "cell_type": "code",
   "execution_count": 145,
   "id": "dd365934",
   "metadata": {},
   "outputs": [
    {
     "name": "stdout",
     "output_type": "stream",
     "text": [
      "              precision    recall  f1-score   support\n",
      "\n",
      "           0       0.75      0.27      0.40        11\n",
      "           1       0.95      0.99      0.97       139\n",
      "\n",
      "    accuracy                           0.94       150\n",
      "   macro avg       0.85      0.63      0.68       150\n",
      "weighted avg       0.93      0.94      0.93       150\n",
      "\n"
     ]
    }
   ],
   "source": [
    "# Classification Report for Tuned ones\n",
    "\n",
    "report=classification_report(ytest,pred_val)\n",
    "print(report)"
   ]
  },
  {
   "cell_type": "code",
   "execution_count": null,
   "id": "c66fbd6a",
   "metadata": {},
   "outputs": [],
   "source": []
  },
  {
   "cell_type": "markdown",
   "id": "0f609cef",
   "metadata": {},
   "source": [
    "### Concusion :"
   ]
  },
  {
   "cell_type": "markdown",
   "id": "58f4c339",
   "metadata": {},
   "source": [
    "From the entire classification analysis, we can interpret that,<br>\n",
    "> <b>Class:</b> 0 indicates \"Not Admitted\", 1 indicates \"Admitted\"\n",
    "\n",
    "> <b>Precision:</b>  For the \"0\" class, the precision is 0.75, which means that out of all instances predicted as \"Not Admitted\". For the \"1\" class, the precision is 0.95, indicating that out of all instances predicted as \"Admitted\".\n",
    "\n",
    "> <b>Recall:</b> The \"0\" class has a recall of 0.27, meaning that out of all actual \"Not Admitted\" instances, 27% were correctly predicted by the model. The \"1\" class has a recall of 0.99, indicating that the model correctly identified 99.0% of the actual \"Admitted\" instances.\n",
    "\n",
    "> <b>F1-Score:</b> For the \"0\" class, the F1-Score is 0.40, while for the \"1\" class, it's 0.97.\n",
    "\n",
    "> <b>Support:</b> This column shows the number of actual instances for each class. There were 11 instances of \"Not Admitted\" and 139 instances of \"Admitted.\"\n",
    "\n",
    "> <b>Accuracy:</b> The overall accuracy of the model is 0.94, which indicates that the model correctly classified 94% of all instances across both classes.\n",
    "\n",
    "\n",
    "<i>Finally,we summarize that the model's performance for the given data obtained the best model of accuracy<strong> 94%</strong> for logistic classifier,which provides a comprehensive overview of how well the model is doing in terms of precision, recall, F1-Score, and support for both individual classes and overall metrics."
   ]
  },
  {
   "cell_type": "code",
   "execution_count": null,
   "id": "8a43e37d",
   "metadata": {},
   "outputs": [],
   "source": []
  },
  {
   "cell_type": "markdown",
   "id": "38063ae9",
   "metadata": {},
   "source": [
    "<center>END"
   ]
  },
  {
   "cell_type": "code",
   "execution_count": null,
   "id": "41e383bb",
   "metadata": {},
   "outputs": [],
   "source": []
  }
 ],
 "metadata": {
  "kernelspec": {
   "display_name": "Python 3 (ipykernel)",
   "language": "python",
   "name": "python3"
  },
  "language_info": {
   "codemirror_mode": {
    "name": "ipython",
    "version": 3
   },
   "file_extension": ".py",
   "mimetype": "text/x-python",
   "name": "python",
   "nbconvert_exporter": "python",
   "pygments_lexer": "ipython3",
   "version": "3.8.16"
  }
 },
 "nbformat": 4,
 "nbformat_minor": 5
}
